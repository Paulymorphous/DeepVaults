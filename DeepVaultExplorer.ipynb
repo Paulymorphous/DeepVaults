{
 "cells": [
  {
   "cell_type": "code",
   "execution_count": 1,
   "id": "eb3d7d12",
   "metadata": {},
   "outputs": [],
   "source": [
    "import os\n",
    "from glob import glob\n",
    "import cv2\n",
    "from random import shuffle, choice\n",
    "\n",
    "image_dir = \"C:\\\\Users\\\\Paulymorphous\\\\Pictures\\\\Clicks\\\\\""
   ]
  },
  {
   "cell_type": "code",
   "execution_count": 2,
   "id": "1fa24caf",
   "metadata": {},
   "outputs": [],
   "source": [
    "file_names = []\n",
    "for path, subdirs, files in os.walk(image_dir):\n",
    "    for name in files:\n",
    "        file_names.append(name)\n",
    "shuffle(file_names)"
   ]
  },
  {
   "cell_type": "code",
   "execution_count": 8,
   "id": "9e258102",
   "metadata": {},
   "outputs": [
    {
     "name": "stdout",
     "output_type": "stream",
     "text": [
      "Q pressed, Exiting.\n"
     ]
    }
   ],
   "source": [
    "prev_image = None \n",
    "while True:\n",
    "    cv2.namedWindow(\"DeepVault Explorer\", cv2.WINDOW_AUTOSIZE)\n",
    "    \n",
    "    file_name = choice(file_names)\n",
    "    image = cv2.imread(image_dir + file_name)\n",
    "    image = cv2.resize(image, (1920, 1080))\n",
    "    cv2.imshow('DeepVault Explorer', image)\n",
    "  \n",
    "    \n",
    "    key_press = cv2.waitKey(0)\n",
    "    if key_press == ord('q'):\n",
    "        print(\"Q pressed, Exiting.\")\n",
    "        break\n",
    "    \n",
    "    \n",
    "        \n",
    "    \n",
    "cv2.destroyAllWindows()"
   ]
  }
 ],
 "metadata": {
  "kernelspec": {
   "display_name": "Python 3 (ipykernel)",
   "language": "python",
   "name": "python3"
  },
  "language_info": {
   "codemirror_mode": {
    "name": "ipython",
    "version": 3
   },
   "file_extension": ".py",
   "mimetype": "text/x-python",
   "name": "python",
   "nbconvert_exporter": "python",
   "pygments_lexer": "ipython3",
   "version": "3.9.6"
  }
 },
 "nbformat": 4,
 "nbformat_minor": 5
}
