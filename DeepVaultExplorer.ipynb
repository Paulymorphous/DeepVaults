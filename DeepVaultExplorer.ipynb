{
 "cells": [
  {
   "cell_type": "code",
   "execution_count": 1,
   "id": "99d23b09",
   "metadata": {},
   "outputs": [],
   "source": [
    "import os\n",
    "from glob import glob\n",
    "import cv2\n",
    "from random import shuffle, choice\n",
    "from collections import deque\n",
    "from time import time \n",
    "\n",
    "image_dir = \"C:\\\\Users\\\\Paulymorphous\\\\Pictures\\\\Clicks\\\\\""
   ]
  },
  {
   "cell_type": "code",
   "execution_count": 2,
   "id": "b25e8dc0",
   "metadata": {},
   "outputs": [],
   "source": [
    "filenames = []\n",
    "for path, subdirs, files in os.walk(image_dir):\n",
    "    for name in files:\n",
    "        if name.endswith(\".jpg\") or name.endswith(\".png\") or name.endswith(\".jpeg\"):\n",
    "            filenames.append(name)\n",
    "            \n",
    "shuffle(filenames)\n",
    "file_name_iterator = iter(filenames)"
   ]
  },
  {
   "cell_type": "code",
   "execution_count": 3,
   "id": "921dd5b2",
   "metadata": {},
   "outputs": [],
   "source": [
    "class file_iterator:\n",
    "    \n",
    "    def __init__(self, filename):\n",
    "        \n",
    "        self.filename = filename\n",
    "        self.prev_node = None\n",
    "        self.next_node = None\n"
   ]
  },
  {
   "cell_type": "code",
   "execution_count": 4,
   "id": "f73c7690",
   "metadata": {},
   "outputs": [],
   "source": [
    "def calculate_target_shape(orginal_h, origianl_w, target_h):\n",
    "    \n",
    "    target_w = round(origianl_w/orginal_h * target_h)\n",
    "    \n",
    "    if target_w > 1500:\n",
    "        target_h, target_w = calculate_target_shape(orginal_h, origianl_w, target_h-120)\n",
    "        \n",
    "    return target_h, target_w\n",
    "\n",
    "def resize_image(image, target_h):\n",
    "    \n",
    "    orginal_h, origianl_w, _ = image.shape\n",
    "    aspect_ratio = orginal_h/origianl_w\n",
    "    target_h, target_w = calculate_target_shape(orginal_h, origianl_w, target_h)\n",
    "    \n",
    "    image = cv2.resize(image, (target_w, target_h))\n",
    "    \n",
    "    return image \n",
    "\n",
    "\n",
    "image = cv2.imread(image_dir + \"IMG_20210103_062324-01.jpeg\")\n",
    "\n",
    "new_image = resize_image(image.copy(), 720)\n",
    "\n",
    "cv2.imshow('ResizeTest', new_image)\n",
    "cv2.waitKey(0)\n",
    "cv2.destroyAllWindows()"
   ]
  },
  {
   "cell_type": "code",
   "execution_count": 6,
   "id": "d60ff6a6",
   "metadata": {
    "scrolled": true
   },
   "outputs": [
    {
     "name": "stdout",
     "output_type": "stream",
     "text": [
      "Q pressed, Exiting.\n"
     ]
    }
   ],
   "source": [
    "file_name_iterator = iter(filenames)\n",
    "file_chain = file_iterator(next(file_name_iterator))\n",
    "loop_counter = 0\n",
    "\n",
    "while True:\n",
    "    try:\n",
    "                    \n",
    "        cv2.namedWindow(\"DeepVault Explorer\")\n",
    "\n",
    "        image = cv2.imread(image_dir + file_chain.filename)\n",
    "        image = resize_image(image, 720)\n",
    "        \n",
    "        cv2.imshow('DeepVault Explorer', image)\n",
    "        \n",
    "\n",
    "        key_press = cv2.waitKey(0)\n",
    "        if key_press == ord('q'):\n",
    "            print(\"Q pressed, Exiting.\")\n",
    "            break\n",
    "            \n",
    "        elif key_press == ord('a'):\n",
    "            if file_chain.prev_node:\n",
    "                file_chain = file_chain.prev_node\n",
    "        \n",
    "\n",
    "        elif key_press == ord('d'):\n",
    "            \n",
    "            if file_chain.next_node:\n",
    "                file_chain = file_chain.next_node\n",
    "\n",
    "            else:\n",
    "                try:\n",
    "                        current_node = file_chain\n",
    "                        file_chain = file_iterator(next(file_name_iterator))\n",
    "                        current_node.next_node = file_chain\n",
    "                        file_chain.prev_node = current_node\n",
    "                \n",
    "                except StopIteration as e:\n",
    "                    pass\n",
    "                \n",
    "        \n",
    "    except Exception as e:\n",
    "        print(\"ERROR:\", e)\n",
    "    \n",
    "    finally:\n",
    "        pass\n",
    "        \n",
    "\n",
    "cv2.destroyAllWindows()"
   ]
  }
 ],
 "metadata": {
  "kernelspec": {
   "display_name": "Python 3 (ipykernel)",
   "language": "python",
   "name": "python3"
  },
  "language_info": {
   "codemirror_mode": {
    "name": "ipython",
    "version": 3
   },
   "file_extension": ".py",
   "mimetype": "text/x-python",
   "name": "python",
   "nbconvert_exporter": "python",
   "pygments_lexer": "ipython3",
   "version": "3.9.6"
  }
 },
 "nbformat": 4,
 "nbformat_minor": 5
}
