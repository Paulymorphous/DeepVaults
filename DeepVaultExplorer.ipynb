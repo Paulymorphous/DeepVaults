{
 "cells": [
  {
   "cell_type": "code",
   "execution_count": 34,
   "id": "99d23b09",
   "metadata": {},
   "outputs": [],
   "source": [
    "import os\n",
    "from glob import glob\n",
    "import cv2\n",
    "from random import shuffle, choice\n",
    "from collections import deque\n",
    "from time import time \n",
    "\n",
    "image_dir = \"C:\\\\Users\\\\Paulymorphous\\\\Pictures\\\\Clicks\\\\\""
   ]
  },
  {
   "cell_type": "code",
   "execution_count": 4,
   "id": "b25e8dc0",
   "metadata": {},
   "outputs": [],
   "source": [
    "filenames = []\n",
    "for path, subdirs, files in os.walk(image_dir):\n",
    "    for name in files:\n",
    "        if name.endswith(\".jpg\") or name.endswith(\".png\") or name.endswith(\".jpeg\"):\n",
    "            filenames.append(name)\n",
    "            \n",
    "shuffle(filenames)\n",
    "file_name_iterator = iter(filenames)"
   ]
  },
  {
   "cell_type": "code",
   "execution_count": 8,
   "id": "921dd5b2",
   "metadata": {},
   "outputs": [],
   "source": [
    "class file_iterator:\n",
    "    \n",
    "    def __init__(self, filename):\n",
    "        self.filename = filename\n",
    "        self.prev_node = None\n",
    "        self.next_node = None\n"
   ]
  },
  {
   "cell_type": "code",
   "execution_count": 38,
   "id": "d60ff6a6",
   "metadata": {
    "scrolled": true
   },
   "outputs": [
    {
     "name": "stdout",
     "output_type": "stream",
     "text": [
      "Q pressed, Exiting.\n"
     ]
    }
   ],
   "source": [
    "file_name_iterator = iter(filenames)\n",
    "file_chain = file_iterator(next(file_name_iterator))\n",
    "loop_counter = 0\n",
    "\n",
    "while True:\n",
    "    try:\n",
    "                    \n",
    "        cv2.namedWindow(\"DeepVault Explorer\", cv2.WINDOW_AUTOSIZE)\n",
    "\n",
    "        image = cv2.imread(image_dir + file_chain.filename)\n",
    "        image = cv2.resize(image, (1920, 1080))\n",
    "        \n",
    "        cv2.imshow('DeepVault Explorer', image)\n",
    "        \n",
    "\n",
    "        key_press = cv2.waitKey(0)\n",
    "        if key_press == ord('q'):\n",
    "            print(\"Q pressed, Exiting.\")\n",
    "            break\n",
    "            \n",
    "        elif key_press == ord('a'):\n",
    "            if file_chain.prev_node:\n",
    "                file_chain = file_chain.prev_node\n",
    "        \n",
    "\n",
    "        elif key_press == ord('d'):\n",
    "            \n",
    "            if file_chain.next_node:\n",
    "                file_chain = file_chain.next_node\n",
    "\n",
    "            else:\n",
    "                try:\n",
    "                        current_node = file_chain\n",
    "                        file_chain = file_iterator(next(file_name_iterator))\n",
    "                        current_node.next_node = file_chain\n",
    "                        file_chain.prev_node = current_node\n",
    "                \n",
    "                except StopIteration as e:\n",
    "                    pass\n",
    "                \n",
    "        \n",
    "    except Exception as e:\n",
    "        print(\"ERROR:\", e)\n",
    "    \n",
    "    finally:\n",
    "        pass\n",
    "        \n",
    "\n",
    "cv2.destroyAllWindows()"
   ]
  }
 ],
 "metadata": {
  "kernelspec": {
   "display_name": "Python 3 (ipykernel)",
   "language": "python",
   "name": "python3"
  },
  "language_info": {
   "codemirror_mode": {
    "name": "ipython",
    "version": 3
   },
   "file_extension": ".py",
   "mimetype": "text/x-python",
   "name": "python",
   "nbconvert_exporter": "python",
   "pygments_lexer": "ipython3",
   "version": "3.9.6"
  }
 },
 "nbformat": 4,
 "nbformat_minor": 5
}
